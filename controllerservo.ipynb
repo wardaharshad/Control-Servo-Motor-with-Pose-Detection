{
 "cells": [
  {
   "cell_type": "code",
   "execution_count": null,
   "id": "91840e2e",
   "metadata": {},
   "outputs": [],
   "source": [
    "from pyfirmata import Arduino, SERVO\n",
    "from time import sleep\n",
    "\n",
    "port = 'COM4'\n",
    "pin = 10\n",
    "board = Arduino(port)\n",
    "\n",
    "board.digital[pin].mode = SERVO\n",
    "\n",
    "def rotateServo(pin, angle):\n",
    "    board.digital[pin].write(angle)\n",
    "    sleep(0.015)\n",
    "    \n",
    "while True:\n",
    "    for i in range(0,181):\n",
    "        rotateServo(pin, i)\n",
    "        \n",
    "    for i in range(180, -1, -1):\n",
    "        rotateServo(pin, i)"
   ]
  },
  {
   "cell_type": "code",
   "execution_count": null,
   "id": "825e1190",
   "metadata": {},
   "outputs": [],
   "source": []
  }
 ],
 "metadata": {
  "kernelspec": {
   "display_name": "Python 3 (ipykernel)",
   "language": "python",
   "name": "python3"
  },
  "language_info": {
   "codemirror_mode": {
    "name": "ipython",
    "version": 3
   },
   "file_extension": ".py",
   "mimetype": "text/x-python",
   "name": "python",
   "nbconvert_exporter": "python",
   "pygments_lexer": "ipython3",
   "version": "3.8.9"
  }
 },
 "nbformat": 4,
 "nbformat_minor": 5
}
